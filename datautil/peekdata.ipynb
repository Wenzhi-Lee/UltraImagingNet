{
 "cells": [
  {
   "cell_type": "code",
   "execution_count": 1,
   "metadata": {},
   "outputs": [],
   "source": [
    "import scipy.io as sio\n",
    "\n",
    "wave = sio.loadmat('../data/final_data_sensor_data_x306y166_10.mat')"
   ]
  },
  {
   "cell_type": "code",
   "execution_count": 22,
   "metadata": {},
   "outputs": [
    {
     "name": "stdout",
     "output_type": "stream",
     "text": [
      "(10, 3)\n"
     ]
    }
   ],
   "source": [
    "print(wave['final_data'][0][0][2].shape)"
   ]
  },
  {
   "cell_type": "code",
   "execution_count": 2,
   "metadata": {},
   "outputs": [
    {
     "name": "stdout",
     "output_type": "stream",
     "text": [
      "dict_keys(['wave', 'phase', 'defeat'])\n",
      "defeat:  [[-1.23124241  0.22226293 -1.84552674]\n",
      " [ 0.56349057  0.65098655 -0.26963244]\n",
      " [-0.97344152 -0.47418434 -1.61349992]\n",
      " [ 1.3941215   0.29071678  0.16161521]\n",
      " [ 0.16074837  0.5154749   1.57467707]]\n"
     ]
    }
   ],
   "source": [
    "import numpy as np\n",
    "# Wavelet data (32, 32, 1000, 64) = (scan, transducer, time, frequency)\n",
    "wavelet = np.random.randn(32, 32, 1000, 64)\n",
    "# Phase data (32, 32, 64, 64) = (scan, transducer, gridN, gridN)\n",
    "phase = np.random.randn(32, 32, 64, 64)\n",
    "# Defeat label (defeat_num, 3) = (defeat_num, [posx, posy, radius])\n",
    "defeat = np.random.randn(5, 3)\n",
    "\n",
    "mat_file = {'wave': wavelet, 'phase': phase, 'defeat': defeat}\n",
    "print(mat_file.keys())\n"
   ]
  },
  {
   "cell_type": "code",
   "execution_count": null,
   "metadata": {},
   "outputs": [],
   "source": [
    "defeat = [[1, ]]\n",
    "print('defeat: ', mat_file['defeat'])"
   ]
  }
 ],
 "metadata": {
  "kernelspec": {
   "display_name": "dgl",
   "language": "python",
   "name": "python3"
  },
  "language_info": {
   "codemirror_mode": {
    "name": "ipython",
    "version": 3
   },
   "file_extension": ".py",
   "mimetype": "text/x-python",
   "name": "python",
   "nbconvert_exporter": "python",
   "pygments_lexer": "ipython3",
   "version": "3.11.10"
  }
 },
 "nbformat": 4,
 "nbformat_minor": 2
}
